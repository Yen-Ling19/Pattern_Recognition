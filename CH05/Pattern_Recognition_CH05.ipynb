{
  "nbformat": 4,
  "nbformat_minor": 0,
  "metadata": {
    "colab": {
      "provenance": []
    },
    "kernelspec": {
      "name": "python3",
      "display_name": "Python 3"
    },
    "language_info": {
      "name": "python"
    }
  },
  "cells": [
    {
      "cell_type": "markdown",
      "source": [
        "# 樣型識別 CH05\n",
        "\n",
        "fundamentals-of-ml\n",
        "\n",
        "資工四 B0729003 何妍霖"
      ],
      "metadata": {
        "id": "rtCuzhJED_z0"
      }
    },
    {
      "cell_type": "markdown",
      "source": [
        "#### Rare features and spurious correlations"
      ],
      "metadata": {
        "id": "LWD8yKY1EWKn"
      }
    },
    {
      "cell_type": "markdown",
      "source": [
        "**Adding white-noise channels or all-zeros channels to MNIST**"
      ],
      "metadata": {
        "id": "3pTx0vIQEWjZ"
      }
    },
    {
      "cell_type": "code",
      "execution_count": null,
      "metadata": {
        "colab": {
          "base_uri": "https://localhost:8080/"
        },
        "id": "G8cD5rVOC3v1",
        "outputId": "f5d78133-8f97-45d1-fc97-9942fb1a82f1"
      },
      "outputs": [
        {
          "output_type": "stream",
          "name": "stdout",
          "text": [
            "Downloading data from https://storage.googleapis.com/tensorflow/tf-keras-datasets/mnist.npz\n",
            "11493376/11490434 [==============================] - 0s 0us/step\n",
            "11501568/11490434 [==============================] - 0s 0us/step\n"
          ]
        }
      ],
      "source": [
        "from tensorflow.keras.datasets import mnist\n",
        "import numpy as np\n",
        "\n",
        "(train_images, train_labels), _ = mnist.load_data()\n",
        "train_images = train_images.reshape((60000, 28 * 28))\n",
        "train_images = train_images.astype(\"float32\") / 255\n",
        "\n",
        "train_images_with_noise_channels = np.concatenate(\n",
        "    [train_images, np.random.random((len(train_images), 784))], axis=1)\n",
        "\n",
        "train_images_with_zeros_channels = np.concatenate(\n",
        "    [train_images, np.zeros((len(train_images), 784))], axis=1)"
      ]
    },
    {
      "cell_type": "markdown",
      "source": [
        "**Training the same model on MNIST data with noise channels or all-zero channels**"
      ],
      "metadata": {
        "id": "hJPteyb4EeAe"
      }
    },
    {
      "cell_type": "code",
      "source": [
        "from tensorflow import keras\n",
        "from tensorflow.keras import layers\n",
        "\n",
        "def get_model():\n",
        "    model = keras.Sequential([\n",
        "        layers.Dense(512, activation=\"relu\"),\n",
        "        layers.Dense(10, activation=\"softmax\")\n",
        "    ])\n",
        "    model.compile(optimizer=\"rmsprop\",\n",
        "                  loss=\"sparse_categorical_crossentropy\",\n",
        "                  metrics=[\"accuracy\"])\n",
        "    return model\n",
        "\n",
        "model = get_model()\n",
        "history_noise = model.fit(\n",
        "    train_images_with_noise_channels, train_labels,\n",
        "    epochs=2,\n",
        "    batch_size=128,\n",
        "    validation_split=0.2)\n",
        "\n",
        "model = get_model()\n",
        "history_zeros = model.fit(\n",
        "    train_images_with_zeros_channels, train_labels,\n",
        "    epochs=2,\n",
        "    batch_size=128,\n",
        "    validation_split=0.2)"
      ],
      "metadata": {
        "colab": {
          "base_uri": "https://localhost:8080/"
        },
        "id": "eVHZjZi6EbsY",
        "outputId": "8423e1b3-06fd-4f10-e1ec-80a3ccb61c3f"
      },
      "execution_count": null,
      "outputs": [
        {
          "output_type": "stream",
          "name": "stdout",
          "text": [
            "Epoch 1/2\n",
            "375/375 [==============================] - 8s 19ms/step - loss: 0.6144 - accuracy: 0.8142 - val_loss: 0.3790 - val_accuracy: 0.8881\n",
            "Epoch 2/2\n",
            "375/375 [==============================] - 7s 19ms/step - loss: 0.2552 - accuracy: 0.9204 - val_loss: 0.2088 - val_accuracy: 0.9376\n",
            "Epoch 1/2\n",
            "375/375 [==============================] - 8s 21ms/step - loss: 0.2928 - accuracy: 0.9144 - val_loss: 0.1527 - val_accuracy: 0.9542\n",
            "Epoch 2/2\n",
            "375/375 [==============================] - 9s 24ms/step - loss: 0.1186 - accuracy: 0.9652 - val_loss: 0.1024 - val_accuracy: 0.9692\n"
          ]
        }
      ]
    },
    {
      "cell_type": "markdown",
      "source": [
        "**Plotting a validation accuracy comparison**"
      ],
      "metadata": {
        "id": "k9n2HGIKE0I7"
      }
    },
    {
      "cell_type": "code",
      "source": [
        "import matplotlib.pyplot as plt\n",
        "val_acc_noise = history_noise.history[\"val_accuracy\"]\n",
        "val_acc_zeros = history_zeros.history[\"val_accuracy\"]\n",
        "epochs = range(1, 3)\n",
        "plt.plot(epochs, val_acc_noise, \"b-\",\n",
        "         label=\"Validation accuracy with noise channels\")\n",
        "plt.plot(epochs, val_acc_zeros, \"b--\",\n",
        "         label=\"Validation accuracy with zeros channels\")\n",
        "plt.title(\"Effect of noise channels on validation accuracy\")\n",
        "plt.xlabel(\"Epochs\")\n",
        "plt.ylabel(\"Accuracy\")\n",
        "plt.legend()"
      ],
      "metadata": {
        "colab": {
          "base_uri": "https://localhost:8080/",
          "height": 313
        },
        "id": "g1ps3ovcE19j",
        "outputId": "9a8d6d6a-ead7-4580-9d05-2a66928f928e"
      },
      "execution_count": null,
      "outputs": [
        {
          "output_type": "execute_result",
          "data": {
            "text/plain": [
              "<matplotlib.legend.Legend at 0x7f6bd163b790>"
            ]
          },
          "metadata": {},
          "execution_count": 4
        },
        {
          "output_type": "display_data",
          "data": {
            "text/plain": [
              "<Figure size 432x288 with 1 Axes>"
            ],
            "image/png": "[encoded data removed]"
          },
          "metadata": {
            "needs_background": "light"
          }
        }
      ]
    },
    {
      "cell_type": "markdown",
      "source": [
        "### The nature of generalization in deep learning"
      ],
      "metadata": {
        "id": "2Qiv_zjuE_S7"
      }
    },
    {
      "cell_type": "markdown",
      "source": [
        "**Fitting a MNIST model with randomly shuffled labels**"
      ],
      "metadata": {
        "id": "Bd3sOzw-FB2P"
      }
    },
    {
      "cell_type": "code",
      "source": [
        "(train_images, train_labels), _ = mnist.load_data()\n",
        "train_images = train_images.reshape((60000, 28 * 28))\n",
        "train_images = train_images.astype(\"float32\") / 255\n",
        "\n",
        "random_train_labels = train_labels[:]\n",
        "np.random.shuffle(random_train_labels)\n",
        "\n",
        "model = keras.Sequential([\n",
        "    layers.Dense(512, activation=\"relu\"),\n",
        "    layers.Dense(10, activation=\"softmax\")\n",
        "])\n",
        "model.compile(optimizer=\"rmsprop\",\n",
        "              loss=\"sparse_categorical_crossentropy\",\n",
        "              metrics=[\"accuracy\"])\n",
        "model.fit(train_images, random_train_labels,\n",
        "          epochs=2,\n",
        "          batch_size=128,\n",
        "          validation_split=0.2)"
      ],
      "metadata": {
        "colab": {
          "base_uri": "https://localhost:8080/"
        },
        "id": "ZofTWPhsFABF",
        "outputId": "9d04957d-04c0-4049-ed89-0d9d138ad537"
      },
      "execution_count": null,
      "outputs": [
        {
          "output_type": "stream",
          "name": "stdout",
          "text": [
            "Epoch 1/2\n",
            "375/375 [==============================] - 6s 13ms/step - loss: 2.3173 - accuracy: 0.1018 - val_loss: 2.3046 - val_accuracy: 0.1060\n",
            "Epoch 2/2\n",
            "375/375 [==============================] - 4s 11ms/step - loss: 2.3004 - accuracy: 0.1146 - val_loss: 2.3123 - val_accuracy: 0.1020\n"
          ]
        },
        {
          "output_type": "execute_result",
          "data": {
            "text/plain": [
              "<keras.callbacks.History at 0x7f6bd0aba710>"
            ]
          },
          "metadata": {},
          "execution_count": 7
        }
      ]
    },
    {
      "cell_type": "markdown",
      "source": [
        "## Improving model fit"
      ],
      "metadata": {
        "id": "PEUHeFvLFWuc"
      }
    },
    {
      "cell_type": "markdown",
      "source": [
        "### Tuning key gradient descent parameters"
      ],
      "metadata": {
        "id": "IMBTu3YpFXN-"
      }
    },
    {
      "cell_type": "markdown",
      "source": [
        "**Training a MNIST model with an incorrectly high learning rate**"
      ],
      "metadata": {
        "id": "pRCGzpS4FZfw"
      }
    },
    {
      "cell_type": "code",
      "source": [
        "(train_images, train_labels), _ = mnist.load_data()\n",
        "train_images = train_images.reshape((60000, 28 * 28))\n",
        "train_images = train_images.astype(\"float32\") / 255\n",
        "\n",
        "model = keras.Sequential([\n",
        "    layers.Dense(512, activation=\"relu\"),\n",
        "    layers.Dense(10, activation=\"softmax\")\n",
        "])\n",
        "model.compile(optimizer=keras.optimizers.RMSprop(1.),\n",
        "              loss=\"sparse_categorical_crossentropy\",\n",
        "              metrics=[\"accuracy\"])\n",
        "model.fit(train_images, train_labels,\n",
        "          epochs=2,\n",
        "          batch_size=128,\n",
        "          validation_split=0.2)"
      ],
      "metadata": {
        "colab": {
          "base_uri": "https://localhost:8080/"
        },
        "id": "xKynoxjkFcRH",
        "outputId": "26c3d159-8ea4-43ca-ae60-3a95584c984e"
      },
      "execution_count": null,
      "outputs": [
        {
          "output_type": "stream",
          "name": "stdout",
          "text": [
            "Epoch 1/2\n",
            "375/375 [==============================] - 5s 12ms/step - loss: 1143.4618 - accuracy: 0.3172 - val_loss: 2.2770 - val_accuracy: 0.2085\n",
            "Epoch 2/2\n",
            "375/375 [==============================] - 4s 11ms/step - loss: 4.2563 - accuracy: 0.2483 - val_loss: 2.0466 - val_accuracy: 0.3019\n"
          ]
        },
        {
          "output_type": "execute_result",
          "data": {
            "text/plain": [
              "<keras.callbacks.History at 0x7f6bcded1490>"
            ]
          },
          "metadata": {},
          "execution_count": 8
        }
      ]
    },
    {
      "cell_type": "markdown",
      "source": [
        "**The same model with a more appropriate learning rate**"
      ],
      "metadata": {
        "id": "uzohjQnnFiz6"
      }
    },
    {
      "cell_type": "code",
      "source": [
        "model = keras.Sequential([\n",
        "    layers.Dense(512, activation=\"relu\"),\n",
        "    layers.Dense(10, activation=\"softmax\")\n",
        "])\n",
        "model.compile(optimizer=keras.optimizers.RMSprop(1e-2),\n",
        "              loss=\"sparse_categorical_crossentropy\",\n",
        "              metrics=[\"accuracy\"])\n",
        "model.fit(train_images, train_labels,\n",
        "          epochs=2,\n",
        "          batch_size=128,\n",
        "          validation_split=0.2)"
      ],
      "metadata": {
        "colab": {
          "base_uri": "https://localhost:8080/"
        },
        "id": "lQGj6EM8Fj7e",
        "outputId": "23b0caf8-bd7b-4d9d-bd92-7ceb5d054654"
      },
      "execution_count": null,
      "outputs": [
        {
          "output_type": "stream",
          "name": "stdout",
          "text": [
            "Epoch 1/2\n",
            "375/375 [==============================] - 5s 11ms/step - loss: 0.3402 - accuracy: 0.9127 - val_loss: 0.1807 - val_accuracy: 0.9523\n",
            "Epoch 2/2\n",
            "375/375 [==============================] - 4s 12ms/step - loss: 0.1415 - accuracy: 0.9645 - val_loss: 0.1636 - val_accuracy: 0.9632\n"
          ]
        },
        {
          "output_type": "execute_result",
          "data": {
            "text/plain": [
              "<keras.callbacks.History at 0x7f6bd0926d10>"
            ]
          },
          "metadata": {},
          "execution_count": 9
        }
      ]
    },
    {
      "cell_type": "markdown",
      "source": [
        "### Increasing model capacity"
      ],
      "metadata": {
        "id": "dn1K7baEFz4U"
      }
    },
    {
      "cell_type": "markdown",
      "source": [
        "**A simple logistic regression on MNIST**"
      ],
      "metadata": {
        "id": "KJ-iqLnOF1_S"
      }
    },
    {
      "cell_type": "code",
      "source": [
        "model = keras.Sequential([layers.Dense(10, activation=\"softmax\")])\n",
        "model.compile(optimizer=\"rmsprop\",\n",
        "              loss=\"sparse_categorical_crossentropy\",\n",
        "              metrics=[\"accuracy\"])\n",
        "history_small_model = model.fit(\n",
        "    train_images, train_labels,\n",
        "    epochs=2,\n",
        "    batch_size=128,\n",
        "    validation_split=0.2)"
      ],
      "metadata": {
        "colab": {
          "base_uri": "https://localhost:8080/"
        },
        "id": "Gg0Zm_uZF5qt",
        "outputId": "f7c84d62-a54f-472b-be70-8ebe4b2cfec8"
      },
      "execution_count": null,
      "outputs": [
        {
          "output_type": "stream",
          "name": "stdout",
          "text": [
            "Epoch 1/2\n",
            "375/375 [==============================] - 1s 3ms/step - loss: 0.6748 - accuracy: 0.8369 - val_loss: 0.3575 - val_accuracy: 0.9056\n",
            "Epoch 2/2\n",
            "375/375 [==============================] - 1s 3ms/step - loss: 0.3509 - accuracy: 0.9033 - val_loss: 0.3074 - val_accuracy: 0.9153\n"
          ]
        }
      ]
    },
    {
      "cell_type": "code",
      "source": [
        "import matplotlib.pyplot as plt\n",
        "val_loss = history_small_model.history[\"val_loss\"]\n",
        "epochs = range(1, 3)\n",
        "plt.plot(epochs, val_loss, \"b--\",\n",
        "         label=\"Validation loss\")\n",
        "plt.title(\"Effect of insufficient model capacity on validation loss\")\n",
        "plt.xlabel(\"Epochs\")\n",
        "plt.ylabel(\"Loss\")\n",
        "plt.legend()"
      ],
      "metadata": {
        "colab": {
          "base_uri": "https://localhost:8080/",
          "height": 313
        },
        "id": "fYkkZkauF9A-",
        "outputId": "d39165c8-c1ac-4aef-8edd-fa53057d1c74"
      },
      "execution_count": null,
      "outputs": [
        {
          "output_type": "execute_result",
          "data": {
            "text/plain": [
              "<matplotlib.legend.Legend at 0x7f6bd064ab10>"
            ]
          },
          "metadata": {},
          "execution_count": 11
        },
        {
          "output_type": "display_data",
          "data": {
            "text/plain": [
              "<Figure size 432x288 with 1 Axes>"
            ],
            "image/png": "[encoded data removed]"
          },
          "metadata": {
            "needs_background": "light"
          }
        }
      ]
    },
    {
      "cell_type": "code",
      "source": [
        "model = keras.Sequential([\n",
        "    layers.Dense(96, activation=\"relu\"),\n",
        "    layers.Dense(96, activation=\"relu\"),\n",
        "    layers.Dense(10, activation=\"softmax\"),\n",
        "])\n",
        "model.compile(optimizer=\"rmsprop\",\n",
        "              loss=\"sparse_categorical_crossentropy\",\n",
        "              metrics=[\"accuracy\"])\n",
        "history_large_model = model.fit(\n",
        "    train_images, train_labels,\n",
        "    epochs=2,\n",
        "    batch_size=128,\n",
        "    validation_split=0.2)"
      ],
      "metadata": {
        "colab": {
          "base_uri": "https://localhost:8080/"
        },
        "id": "rOQgf1d8GAQU",
        "outputId": "faefba3c-52ee-4a39-bd79-530c9283bd8d"
      },
      "execution_count": null,
      "outputs": [
        {
          "output_type": "stream",
          "name": "stdout",
          "text": [
            "Epoch 1/2\n",
            "375/375 [==============================] - 3s 6ms/step - loss: 0.3591 - accuracy: 0.8973 - val_loss: 0.1894 - val_accuracy: 0.9443\n",
            "Epoch 2/2\n",
            "375/375 [==============================] - 2s 5ms/step - loss: 0.1611 - accuracy: 0.9516 - val_loss: 0.1377 - val_accuracy: 0.9585\n"
          ]
        }
      ]
    },
    {
      "cell_type": "markdown",
      "source": [
        "## Improving generalization"
      ],
      "metadata": {
        "id": "TvjqNB6nGGzE"
      }
    },
    {
      "cell_type": "markdown",
      "source": [
        "### Dataset curation、Feature engineering、Using early stopping"
      ],
      "metadata": {
        "id": "G93d6LmMGHU7"
      }
    },
    {
      "cell_type": "markdown",
      "source": [
        "### Regularizing your model"
      ],
      "metadata": {
        "id": "KbjaKhj1GSth"
      }
    },
    {
      "cell_type": "markdown",
      "source": [
        "#### Reducing the network's size"
      ],
      "metadata": {
        "id": "H3IscxilGU9h"
      }
    },
    {
      "cell_type": "markdown",
      "source": [
        "**Original model**"
      ],
      "metadata": {
        "id": "_1e574n5GW5y"
      }
    },
    {
      "cell_type": "code",
      "source": [
        "from tensorflow.keras.datasets import imdb\n",
        "(train_data, train_labels), _ = imdb.load_data(num_words=10000)\n",
        "\n",
        "def vectorize_sequences(sequences, dimension=10000):\n",
        "    results = np.zeros((len(sequences), dimension))\n",
        "    for i, sequence in enumerate(sequences):\n",
        "        results[i, sequence] = 1.\n",
        "    return results\n",
        "train_data = vectorize_sequences(train_data)\n",
        "\n",
        "model = keras.Sequential([\n",
        "    layers.Dense(16, activation=\"relu\"),\n",
        "    layers.Dense(16, activation=\"relu\"),\n",
        "    layers.Dense(1, activation=\"sigmoid\")\n",
        "])\n",
        "model.compile(optimizer=\"rmsprop\",\n",
        "              loss=\"binary_crossentropy\",\n",
        "              metrics=[\"accuracy\"])\n",
        "history_original = model.fit(train_data, train_labels,\n",
        "                             epochs=2, batch_size=512, validation_split=0.4)"
      ],
      "metadata": {
        "colab": {
          "base_uri": "https://localhost:8080/"
        },
        "id": "0u3yxol2Gagx",
        "outputId": "bbb967db-4347-4981-d7cf-6f088f9bfe28"
      },
      "execution_count": null,
      "outputs": [
        {
          "output_type": "stream",
          "name": "stdout",
          "text": [
            "Downloading data from https://storage.googleapis.com/tensorflow/tf-keras-datasets/imdb.npz\n",
            "17465344/17464789 [==============================] - 0s 0us/step\n",
            "17473536/17464789 [==============================] - 0s 0us/step\n",
            "Epoch 1/2\n",
            "30/30 [==============================] - 3s 71ms/step - loss: 0.5472 - accuracy: 0.7784 - val_loss: 0.4256 - val_accuracy: 0.8601\n",
            "Epoch 2/2\n",
            "30/30 [==============================] - 3s 84ms/step - loss: 0.3430 - accuracy: 0.8985 - val_loss: 0.3258 - val_accuracy: 0.8835\n"
          ]
        }
      ]
    },
    {
      "cell_type": "markdown",
      "source": [
        "**Version of the model with lower capacity**"
      ],
      "metadata": {
        "id": "6pXT-kspGfvY"
      }
    },
    {
      "cell_type": "code",
      "source": [
        "model = keras.Sequential([\n",
        "    layers.Dense(4, activation=\"relu\"),\n",
        "    layers.Dense(4, activation=\"relu\"),\n",
        "    layers.Dense(1, activation=\"sigmoid\")\n",
        "])\n",
        "model.compile(optimizer=\"rmsprop\",\n",
        "              loss=\"binary_crossentropy\",\n",
        "              metrics=[\"accuracy\"])\n",
        "history_smaller_model = model.fit(\n",
        "    train_data, train_labels,\n",
        "    epochs=2, batch_size=512, validation_split=0.4)"
      ],
      "metadata": {
        "colab": {
          "base_uri": "https://localhost:8080/"
        },
        "id": "368UFL60GgWg",
        "outputId": "085e32aa-49e2-4336-91bd-0e743891253f"
      },
      "execution_count": null,
      "outputs": [
        {
          "output_type": "stream",
          "name": "stdout",
          "text": [
            "Epoch 1/2\n",
            "30/30 [==============================] - 2s 43ms/step - loss: 0.6407 - accuracy: 0.7531 - val_loss: 0.5813 - val_accuracy: 0.8253\n",
            "Epoch 2/2\n",
            "30/30 [==============================] - 1s 36ms/step - loss: 0.5278 - accuracy: 0.8642 - val_loss: 0.4890 - val_accuracy: 0.8571\n"
          ]
        }
      ]
    },
    {
      "cell_type": "markdown",
      "source": [
        "**Version of the model with higher capacity**"
      ],
      "metadata": {
        "id": "JVXl2LsiGlnT"
      }
    },
    {
      "cell_type": "code",
      "source": [
        "model = keras.Sequential([\n",
        "    layers.Dense(512, activation=\"relu\"),\n",
        "    layers.Dense(512, activation=\"relu\"),\n",
        "    layers.Dense(1, activation=\"sigmoid\")\n",
        "])\n",
        "model.compile(optimizer=\"rmsprop\",\n",
        "              loss=\"binary_crossentropy\",\n",
        "              metrics=[\"accuracy\"])\n",
        "history_larger_model = model.fit(\n",
        "    train_data, train_labels,\n",
        "    epochs=2, batch_size=512, validation_split=0.4)"
      ],
      "metadata": {
        "colab": {
          "base_uri": "https://localhost:8080/"
        },
        "id": "OLb1_YMKGl7_",
        "outputId": "22e88bd9-8f7a-43ed-9379-35f69faa0b45"
      },
      "execution_count": null,
      "outputs": [
        {
          "output_type": "stream",
          "name": "stdout",
          "text": [
            "Epoch 1/2\n",
            "30/30 [==============================] - 10s 319ms/step - loss: 0.5402 - accuracy: 0.7721 - val_loss: 0.5618 - val_accuracy: 0.7437\n",
            "Epoch 2/2\n",
            "30/30 [==============================] - 10s 328ms/step - loss: 0.2508 - accuracy: 0.8987 - val_loss: 0.4149 - val_accuracy: 0.8298\n"
          ]
        }
      ]
    },
    {
      "cell_type": "markdown",
      "source": [
        "#### Adding weight regularization"
      ],
      "metadata": {
        "id": "rqtpnysEGr77"
      }
    },
    {
      "cell_type": "markdown",
      "source": [
        "**Adding L2 weight regularization to the model**"
      ],
      "metadata": {
        "id": "3CZcLq3NGsbK"
      }
    },
    {
      "cell_type": "code",
      "source": [
        "from tensorflow.keras import regularizers\n",
        "model = keras.Sequential([\n",
        "    layers.Dense(16,\n",
        "                 kernel_regularizer=regularizers.l2(0.002),\n",
        "                 activation=\"relu\"),\n",
        "    layers.Dense(16,\n",
        "                 kernel_regularizer=regularizers.l2(0.002),\n",
        "                 activation=\"relu\"),\n",
        "    layers.Dense(1, activation=\"sigmoid\")\n",
        "])\n",
        "model.compile(optimizer=\"rmsprop\",\n",
        "              loss=\"binary_crossentropy\",\n",
        "              metrics=[\"accuracy\"])\n",
        "history_l2_reg = model.fit(\n",
        "    train_data, train_labels,\n",
        "    epochs=2, batch_size=512, validation_split=0.4)"
      ],
      "metadata": {
        "colab": {
          "base_uri": "https://localhost:8080/"
        },
        "id": "rzIRYEYUGuWW",
        "outputId": "48423e4e-3265-498b-cf03-2ff65eb16759"
      },
      "execution_count": null,
      "outputs": [
        {
          "output_type": "stream",
          "name": "stdout",
          "text": [
            "Epoch 1/2\n",
            "30/30 [==============================] - 2s 47ms/step - loss: 0.5985 - accuracy: 0.7887 - val_loss: 0.4719 - val_accuracy: 0.8744\n",
            "Epoch 2/2\n",
            "30/30 [==============================] - 1s 36ms/step - loss: 0.4072 - accuracy: 0.8975 - val_loss: 0.3922 - val_accuracy: 0.8848\n"
          ]
        }
      ]
    },
    {
      "cell_type": "markdown",
      "source": [
        "**Different weight regularizers available in Keras**"
      ],
      "metadata": {
        "id": "8-vUkxB5Gzc7"
      }
    },
    {
      "cell_type": "code",
      "source": [
        "from tensorflow.keras import regularizers\n",
        "regularizers.l1(0.001)\n",
        "regularizers.l1_l2(l1=0.001, l2=0.001)"
      ],
      "metadata": {
        "colab": {
          "base_uri": "https://localhost:8080/"
        },
        "id": "cgDOmYujG0nm",
        "outputId": "3c9128c0-9c4d-4616-9bf9-33535a56829d"
      },
      "execution_count": null,
      "outputs": [
        {
          "output_type": "execute_result",
          "data": {
            "text/plain": [
              "<keras.regularizers.L1L2 at 0x7f6bc7d61dd0>"
            ]
          },
          "metadata": {},
          "execution_count": 17
        }
      ]
    },
    {
      "cell_type": "markdown",
      "source": [
        "#### Adding dropout"
      ],
      "metadata": {
        "id": "Jz0nMB79G440"
      }
    },
    {
      "cell_type": "markdown",
      "source": [
        "**Adding dropout to the IMDB model**"
      ],
      "metadata": {
        "id": "7lc-0H6JG5RU"
      }
    },
    {
      "cell_type": "code",
      "source": [
        "model = keras.Sequential([\n",
        "    layers.Dense(16, activation=\"relu\"),\n",
        "    layers.Dropout(0.5),\n",
        "    layers.Dense(16, activation=\"relu\"),\n",
        "    layers.Dropout(0.5),\n",
        "    layers.Dense(1, activation=\"sigmoid\")\n",
        "])\n",
        "model.compile(optimizer=\"rmsprop\",\n",
        "              loss=\"binary_crossentropy\",\n",
        "              metrics=[\"accuracy\"])\n",
        "history_dropout = model.fit(\n",
        "    train_data, train_labels,\n",
        "    epochs=2, batch_size=512, validation_split=0.4)"
      ],
      "metadata": {
        "colab": {
          "base_uri": "https://localhost:8080/"
        },
        "id": "Hmzw7oXIG7xf",
        "outputId": "4d502b2d-f2aa-4207-f904-72bef4f5c1ac"
      },
      "execution_count": null,
      "outputs": [
        {
          "output_type": "stream",
          "name": "stdout",
          "text": [
            "Epoch 1/2\n",
            "30/30 [==============================] - 2s 50ms/step - loss: 0.6594 - accuracy: 0.5958 - val_loss: 0.5986 - val_accuracy: 0.7737\n",
            "Epoch 2/2\n",
            "30/30 [==============================] - 1s 37ms/step - loss: 0.5793 - accuracy: 0.7467 - val_loss: 0.5244 - val_accuracy: 0.8522\n"
          ]
        }
      ]
    }
  ]
}